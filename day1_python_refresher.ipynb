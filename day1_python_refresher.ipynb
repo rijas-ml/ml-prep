{
 "cells": [
  {
   "cell_type": "code",
   "execution_count": 1,
   "id": "469270d6-4761-4310-9e72-13df5b9f355c",
   "metadata": {},
   "outputs": [
    {
     "name": "stdout",
     "output_type": "stream",
     "text": [
      "13 7 30 3.3333333333333335 3 1 1000\n"
     ]
    }
   ],
   "source": [
    "#Numbers and operations\n",
    "a = 10\n",
    "b = 3\n",
    "print(a + b, a - b, a *b, a/b, a//b, a % b, a**b)"
   ]
  },
  {
   "cell_type": "code",
   "execution_count": 4,
   "id": "a8f22de5-b62c-4873-96b3-ae0cab161334",
   "metadata": {},
   "outputs": [
    {
     "name": "stdout",
     "output_type": "stream",
     "text": [
      "MACHINE LEARNING machine learning Machine ['Machine', 'Learning']\n"
     ]
    }
   ],
   "source": [
    "#Strings\n",
    "s = \"Machine Learning\"\n",
    "print(s.upper(), s.lower(), s[0:7], s.split())"
   ]
  },
  {
   "cell_type": "code",
   "execution_count": 5,
   "id": "646393c5-880b-414e-bdf1-bfc5eb1e4e60",
   "metadata": {},
   "outputs": [
    {
     "name": "stdout",
     "output_type": "stream",
     "text": [
      "[1, 2, 3, 4, 5] [2, 3]\n"
     ]
    }
   ],
   "source": [
    "#Lists\n",
    "lst = [1, 2, 3, 4]\n",
    "lst.append(5)\n",
    "print(lst, lst[1:3])"
   ]
  },
  {
   "cell_type": "code",
   "execution_count": 7,
   "id": "09fa1bbc-0d76-47e3-941f-74f1e5878631",
   "metadata": {},
   "outputs": [
    {
     "name": "stdout",
     "output_type": "stream",
     "text": [
      "Rijas\n"
     ]
    }
   ],
   "source": [
    "#Dictionaries\n",
    "d = {'name': 'Rijas', 'role': 'Intern'}\n",
    "print(d['name'])"
   ]
  },
  {
   "cell_type": "code",
   "execution_count": 10,
   "id": "e77e0c6f-d772-45b2-a607-de236e6ceb4b",
   "metadata": {},
   "outputs": [
    {
     "name": "stdout",
     "output_type": "stream",
     "text": [
      "0 is even\n",
      "2 is even\n",
      "4 is even\n"
     ]
    }
   ],
   "source": [
    "#Loops and conditions\n",
    "for i in range(5):\n",
    "    if i % 2 == 0:\n",
    "        print(f\"{i} is even\")"
   ]
  },
  {
   "cell_type": "raw",
   "id": "64d67af5-74ac-4e83-9420-d1b8e519f106",
   "metadata": {},
   "source": []
  },
  {
   "cell_type": "code",
   "execution_count": 11,
   "id": "231ec60b-f4a3-48d4-a750-0a06eb86314f",
   "metadata": {},
   "outputs": [
    {
     "name": "stdout",
     "output_type": "stream",
     "text": [
      "Hello, Rijas\n"
     ]
    }
   ],
   "source": [
    "#Functions\n",
    "def greet (name):\n",
    "    return f\"Hello, {name}\"\n",
    "print(greet(\"Rijas\"))"
   ]
  },
  {
   "cell_type": "code",
   "execution_count": 12,
   "id": "37d030a0-6715-4b7d-ac28-c403188ccc5a",
   "metadata": {},
   "outputs": [],
   "source": [
    "import numpy as np\n",
    "#creating arrays"
   ]
  },
  {
   "cell_type": "code",
   "execution_count": 16,
   "id": "447f4e52-6f98-4c44-97dd-2346e7560efa",
   "metadata": {},
   "outputs": [
    {
     "name": "stdout",
     "output_type": "stream",
     "text": [
      "1D Array: [1 2 3]\n",
      "2D Array:\n",
      " [[1 2]\n",
      " [3 4]]\n",
      "Add : [2 3 4]\n",
      "Multiply: [2 4 6]\n",
      "shape: (2, 2)\n",
      "Data type: int32\n",
      "Zeros:\n",
      " [[0. 0. 0.]\n",
      " [0. 0. 0.]]\n",
      "Ones:\n",
      " [[1. 1.]\n",
      " [1. 1.]\n",
      " [1. 1.]]\n",
      "Random 2*2 array:\n",
      " [[0.90585451 0.11954987]\n",
      " [0.84056853 0.51305398]]\n",
      "First element: 1\n",
      "Last row of b: [3 4]\n"
     ]
    }
   ],
   "source": [
    "a = np.array([1, 2, 3])\n",
    "b = np.array([[1, 2], [3, 4]])\n",
    "print(\"1D Array:\", a)\n",
    "print(\"2D Array:\\n\", b)\n",
    "\n",
    "#Basic Math\n",
    "print(\"Add :\", a + 1)\n",
    "print(\"Multiply:\", a * 2)\n",
    "\n",
    "#Useful properties\n",
    "print(\"shape:\", b.shape)\n",
    "print(\"Data type:\", b.dtype)\n",
    "\n",
    "#Array of zeros and ones\n",
    "z = np.zeros((2, 3))\n",
    "o = np.ones((3, 2))\n",
    "print(\"Zeros:\\n\", z)\n",
    "print(\"Ones:\\n\", o)\n",
    "\n",
    "\n",
    "#Random numbers\n",
    "r = np.random.rand(2, 2)\n",
    "print(\"Random 2*2 array:\\n\", r)\n",
    "\n",
    "#Slicing and indexing\n",
    "print(\"First element:\", a[0])\n",
    "print(\"Last row of b:\", b[-1])"
   ]
  },
  {
   "cell_type": "code",
   "execution_count": 19,
   "id": "c0bc45ea-43b2-4707-a8b8-a47d0e3d9f6b",
   "metadata": {},
   "outputs": [
    {
     "name": "stdout",
     "output_type": "stream",
     "text": [
      "[[19  5 14 13]\n",
      " [14 10 20 12]\n",
      " [17  9 10 10]\n",
      " [14 17 14 10]]\n"
     ]
    }
   ],
   "source": [
    "#challenge\n",
    "import numpy as np\n",
    "a = np.random.randint(5, 21, (4, 4))\n",
    "print(a)"
   ]
  },
  {
   "cell_type": "code",
   "execution_count": 23,
   "id": "84b547f3-8300-457e-8c59-67aaf1fbcab3",
   "metadata": {},
   "outputs": [
    {
     "name": "stdout",
     "output_type": "stream",
     "text": [
      "[[1 2 3]\n",
      " [4 5 6]\n",
      " [7 8 9]]\n",
      "[[5 6]\n",
      " [8 9]]\n",
      "[1 4 7]\n",
      "[2 4 6 8]\n"
     ]
    }
   ],
   "source": [
    "arr = np.arange(1, 10).reshape(3, 3)\n",
    "print(arr)\n",
    "print(arr[1:, 1:])\n",
    "print(arr[:, 0])\n",
    "print(arr[arr % 2 == 0])"
   ]
  },
  {
   "cell_type": "code",
   "execution_count": 25,
   "id": "15e0f7ef-7bfa-4423-8e45-0bc8db19629e",
   "metadata": {},
   "outputs": [
    {
     "name": "stdout",
     "output_type": "stream",
     "text": [
      "89\n",
      "60\n",
      "[75, 92]\n"
     ]
    }
   ],
   "source": [
    "marks = [89, 75, 92, 60]\n",
    "print(marks[0])\n",
    "print(marks[-1])\n",
    "print(marks[1:3])\n",
    "marks.append(88)"
   ]
  },
  {
   "cell_type": "code",
   "execution_count": 26,
   "id": "0b4b826e-7d40-4267-ba4e-7ea17289de66",
   "metadata": {},
   "outputs": [
    {
     "name": "stdout",
     "output_type": "stream",
     "text": [
      "[89, 75, 92, 60, 88]\n"
     ]
    }
   ],
   "source": [
    "print(marks[:])"
   ]
  },
  {
   "cell_type": "code",
   "execution_count": 27,
   "id": "bb5f3981-8117-4d11-8efe-c6fd11fee3a4",
   "metadata": {},
   "outputs": [
    {
     "name": "stdout",
     "output_type": "stream",
     "text": [
      "[89, 75, 92]\n"
     ]
    }
   ],
   "source": [
    "print(marks[:3])"
   ]
  },
  {
   "cell_type": "code",
   "execution_count": 32,
   "id": "715f867f-dada-447a-bbc8-12b69281fcf4",
   "metadata": {},
   "outputs": [
    {
     "name": "stdout",
     "output_type": "stream",
     "text": [
      "High: 89\n",
      "High: 92\n"
     ]
    }
   ],
   "source": [
    "marks = [89, 75, 92, 60]\n",
    "for mark in marks:\n",
    "    if mark > 80:\n",
    "        print(\"High:\", mark)"
   ]
  },
  {
   "cell_type": "code",
   "execution_count": 33,
   "id": "56c522d3-47b4-4c38-8ab7-1a76917450e3",
   "metadata": {},
   "outputs": [
    {
     "name": "stdout",
     "output_type": "stream",
     "text": [
      "25\n"
     ]
    }
   ],
   "source": [
    "def square(x):\n",
    "    return x*x\n",
    "print(square(5))"
   ]
  },
  {
   "cell_type": "code",
   "execution_count": 35,
   "id": "f30e05f9-a182-4857-a526-fe0729b412e4",
   "metadata": {},
   "outputs": [
    {
     "name": "stdout",
     "output_type": "stream",
     "text": [
      "8\n"
     ]
    }
   ],
   "source": [
    "double = lambda x: x* 2\n",
    "print(double(4))"
   ]
  },
  {
   "cell_type": "code",
   "execution_count": 37,
   "id": "957cc28f-164b-41d6-be33-40eb9ff5bbe2",
   "metadata": {},
   "outputs": [
    {
     "name": "stdout",
     "output_type": "stream",
     "text": [
      "[('John', 19), ('Aarav', 20), ('Riya', 22), ('Meera', 25)]\n"
     ]
    }
   ],
   "source": [
    "people = [(\"Riya\", 22), (\"John\", 19), (\"Meera\", 25), (\"Aarav\", 20)]\n",
    "sorted_people = sorted(people, key = lambda x: x[1])\n",
    "print(sorted_people)"
   ]
  },
  {
   "cell_type": "code",
   "execution_count": 38,
   "id": "ad517ea4-6bd0-4773-adbe-5968aa164b33",
   "metadata": {},
   "outputs": [
    {
     "name": "stdout",
     "output_type": "stream",
     "text": [
      "[('Meera', 25), ('Riya', 22), ('Aarav', 20), ('John', 19)]\n"
     ]
    }
   ],
   "source": [
    "sorted_people = sorted(people, key = lambda x: x[1], reverse = True)\n",
    "print(sorted_people)"
   ]
  },
  {
   "cell_type": "code",
   "execution_count": 39,
   "id": "fdb0d063-69c2-4f55-a07f-591e41c70225",
   "metadata": {},
   "outputs": [
    {
     "name": "stdout",
     "output_type": "stream",
     "text": [
      "[0, 1, 4, 9, 16, 25, 36, 49, 64, 81]\n"
     ]
    }
   ],
   "source": [
    "squares = []\n",
    "for i in range(10):\n",
    "    squares.append(i**2)\n",
    "print(squares)"
   ]
  },
  {
   "cell_type": "code",
   "execution_count": 40,
   "id": "0aa4af43-4709-4ca2-a3e6-4868b9b3f7a3",
   "metadata": {},
   "outputs": [
    {
     "name": "stdout",
     "output_type": "stream",
     "text": [
      "[0, 2, 4, 6, 8, 10, 12, 14, 16, 18]\n"
     ]
    }
   ],
   "source": [
    "evens = [i for i in range(20) if i % 2 == 0]\n",
    "print(evens)"
   ]
  },
  {
   "cell_type": "code",
   "execution_count": 41,
   "id": "ef8acb0b-b9ac-4b0e-ab42-1351269cb28c",
   "metadata": {},
   "outputs": [
    {
     "name": "stdout",
     "output_type": "stream",
     "text": [
      "['AI', 'ML', 'PYTHON']\n"
     ]
    }
   ],
   "source": [
    "words = [\"ai\", \"ml\", \"python\"]\n",
    "upper_words = [word.upper() for word in words]\n",
    "print(upper_words)"
   ]
  },
  {
   "cell_type": "code",
   "execution_count": 45,
   "id": "481eb70a-f247-4bf1-96a2-5b97b1569cf8",
   "metadata": {},
   "outputs": [
    {
     "name": "stdout",
     "output_type": "stream",
     "text": [
      "[1, 4, 9, 16]\n"
     ]
    }
   ],
   "source": [
    "numbers = [1, 2, 3, 4]\n",
    "squared = map(lambda x: x**2, numbers)\n",
    "print(list(squared))"
   ]
  },
  {
   "cell_type": "markdown",
   "id": "48bbdcad-7603-4955-b627-58dbd0a84108",
   "metadata": {},
   "source": []
  },
  {
   "cell_type": "code",
   "execution_count": 52,
   "id": "d9f3d47b-d690-4a6a-91a0-a2448d7ec275",
   "metadata": {},
   "outputs": [
    {
     "name": "stdout",
     "output_type": "stream",
     "text": [
      "['Alice', 'Bob', 'Charlie']\n"
     ]
    }
   ],
   "source": [
    "names = [\"alice\", \"bob\", \"charlie\"]\n",
    "capitalized = list(map(lambda x: x.capitalize(), names))\n",
    "print(capitalized)"
   ]
  },
  {
   "cell_type": "code",
   "execution_count": 54,
   "id": "e69a8132-7f7e-462a-bc1d-bc9344725195",
   "metadata": {},
   "outputs": [
    {
     "name": "stdout",
     "output_type": "stream",
     "text": [
      "[32.0, 50.0, 68.0, 86.0, 104.0]\n"
     ]
    }
   ],
   "source": [
    "celsius = [0, 10, 20, 30, 40]\n",
    "fahrenheit = list(map(lambda x: x * 9/5 + 32, celsius))\n",
    "print(fahrenheit)"
   ]
  },
  {
   "cell_type": "code",
   "execution_count": 55,
   "id": "a499f8ed-6709-406d-b15a-ba4ff4798064",
   "metadata": {},
   "outputs": [
    {
     "name": "stdout",
     "output_type": "stream",
     "text": [
      "['Alice', 'Anna', 'Angela']\n"
     ]
    }
   ],
   "source": [
    "names = [\"Alice\", \"Bob\", \"Anna\", \"Charlie\", \"Angela\"]\n",
    "a_names = list(filter(lambda x: x.startswith('A'), names))\n",
    "print(a_names)               "
   ]
  },
  {
   "cell_type": "code",
   "execution_count": 59,
   "id": "59764c74-c374-4157-bafa-eba37d684a76",
   "metadata": {},
   "outputs": [
    {
     "name": "stdout",
     "output_type": "stream",
     "text": [
      "48\n"
     ]
    }
   ],
   "source": [
    "from functools import reduce\n",
    "numbers = [1, 2, 3, 4, 5, 6]\n",
    "evens = list(filter(lambda x: x % 2 ==0, numbers))\n",
    "product = reduce(lambda x, y: x*y, evens)\n",
    "print(product)"
   ]
  },
  {
   "cell_type": "code",
   "execution_count": 61,
   "id": "41cf75c1-2b64-42ef-a2ef-c7b7990b26fe",
   "metadata": {},
   "outputs": [
    {
     "name": "stdout",
     "output_type": "stream",
     "text": [
      "[('Alice', 88), ('Charlie', 95)]\n"
     ]
    }
   ],
   "source": [
    "students = [(\"Alice\", 88), (\"Bob\", 75), (\"Charlie\", 95), (\"David\", 60)]\n",
    "passed = list(filter(lambda student: student[1] > 80, students))\n",
    "print(passed)"
   ]
  },
  {
   "cell_type": "code",
   "execution_count": 62,
   "id": "3b7f318e-770a-4085-bd3c-d3007c1ab404",
   "metadata": {},
   "outputs": [
    {
     "name": "stdout",
     "output_type": "stream",
     "text": [
      "['Alice', 'Bob', 'Charlie']\n"
     ]
    }
   ],
   "source": [
    "names = [\"alice\", \"bob\", \"charlie\"]\n",
    "capitalized = list(map(lambda x: x.capitalize(), names))\n",
    "print(capitalized)"
   ]
  },
  {
   "cell_type": "code",
   "execution_count": 64,
   "id": "59a469e4-5663-47e3-a017-dfb7eb7cd930",
   "metadata": {},
   "outputs": [
    {
     "name": "stdout",
     "output_type": "stream",
     "text": [
      "['CHARLIE', 'ALICE']\n"
     ]
    }
   ],
   "source": [
    "students = [(\"Alice\", 88), (\"Bob\", 75), (\"Charlie\", 95), (\"David\", 60)]\n",
    "passed_students = list(filter(lambda x: x[1] >=80, students))\n",
    "sort_passed = sorted(passed_students, reverse=True)\n",
    "upper_names = list(map(lambda x: x[0].upper(), sort_passed))\n",
    "print(upper_names)"
   ]
  },
  {
   "cell_type": "code",
   "execution_count": 65,
   "id": "03f59f8f-a02b-4b3a-b6d8-ef150bea136f",
   "metadata": {},
   "outputs": [
    {
     "name": "stdout",
     "output_type": "stream",
     "text": [
      "2\n"
     ]
    }
   ],
   "source": [
    "t = (1, 2, 3)\n",
    "print(t[1])"
   ]
  },
  {
   "cell_type": "code",
   "execution_count": 80,
   "id": "6da3accb-fa7d-4eec-9403-c66f8f88ec28",
   "metadata": {},
   "outputs": [
    {
     "name": "stdout",
     "output_type": "stream",
     "text": [
      "{1, 2, 3, 5}\n"
     ]
    }
   ],
   "source": [
    "a = {1, 2, 3, 3, 5}\n",
    "print(a)"
   ]
  },
  {
   "cell_type": "code",
   "execution_count": 81,
   "id": "cdad5156-1099-49bb-b592-746b4ff562f8",
   "metadata": {},
   "outputs": [
    {
     "name": "stdout",
     "output_type": "stream",
     "text": [
      "{1, 2, 3, 5}\n"
     ]
    }
   ],
   "source": [
    "print(a)"
   ]
  },
  {
   "cell_type": "code",
   "execution_count": 82,
   "id": "73fe0911-0e02-4318-8ccf-23e0e89a452c",
   "metadata": {},
   "outputs": [],
   "source": [
    "a.remove(5)"
   ]
  },
  {
   "cell_type": "code",
   "execution_count": 83,
   "id": "88bd000e-78ad-4fbd-928f-d5958def3e15",
   "metadata": {},
   "outputs": [
    {
     "name": "stdout",
     "output_type": "stream",
     "text": [
      "{1, 2, 3}\n"
     ]
    }
   ],
   "source": [
    "print(a)"
   ]
  },
  {
   "cell_type": "code",
   "execution_count": 84,
   "id": "1b74e579-b290-40d0-b7e4-7c6fd98e4a92",
   "metadata": {},
   "outputs": [],
   "source": [
    "a.add(4)"
   ]
  },
  {
   "cell_type": "code",
   "execution_count": 85,
   "id": "daa159bf-d0af-4ee3-a552-a6ee5aaef703",
   "metadata": {},
   "outputs": [
    {
     "name": "stdout",
     "output_type": "stream",
     "text": [
      "{1, 2, 3, 4}\n"
     ]
    }
   ],
   "source": [
    "print(a)"
   ]
  },
  {
   "cell_type": "code",
   "execution_count": 90,
   "id": "8f87caac-6fab-4fa1-b899-1bfbd95d64ba",
   "metadata": {},
   "outputs": [
    {
     "name": "stdout",
     "output_type": "stream",
     "text": [
      "Alice\n"
     ]
    }
   ],
   "source": [
    "student = {\"name\": \"Alice\", \"marks\": 90}\n",
    "print(student[\"name\"])\n",
    "student[\"grade\"] = \"A\""
   ]
  },
  {
   "cell_type": "code",
   "execution_count": 91,
   "id": "41574e93-75fa-4bef-8d77-45fbe3119e28",
   "metadata": {},
   "outputs": [
    {
     "name": "stdout",
     "output_type": "stream",
     "text": [
      "{'name': 'Alice', 'marks': 90, 'grade': 'A'}\n"
     ]
    }
   ],
   "source": [
    "print(student)"
   ]
  },
  {
   "cell_type": "code",
   "execution_count": 93,
   "id": "45a7eb9e-dede-4eb2-a616-d10201d83814",
   "metadata": {},
   "outputs": [
    {
     "name": "stdout",
     "output_type": "stream",
     "text": [
      "Alice\n"
     ]
    }
   ],
   "source": [
    "print(student[\"name\"])"
   ]
  },
  {
   "cell_type": "code",
   "execution_count": 94,
   "id": "5e0e5446-8867-40e4-a906-32fae96ba4a3",
   "metadata": {},
   "outputs": [
    {
     "name": "stdout",
     "output_type": "stream",
     "text": [
      "A\n"
     ]
    }
   ],
   "source": [
    "print(student[\"grade\"])"
   ]
  },
  {
   "cell_type": "code",
   "execution_count": 95,
   "id": "c3b50ab4-9607-49c9-addc-92d099598c2d",
   "metadata": {},
   "outputs": [],
   "source": [
    "student[\"age\"] = 22"
   ]
  },
  {
   "cell_type": "code",
   "execution_count": 100,
   "id": "9d2096ff-869d-4399-85ef-7876266f0d62",
   "metadata": {},
   "outputs": [],
   "source": [
    "student[\"city\"] = \"Kochi\""
   ]
  },
  {
   "cell_type": "code",
   "execution_count": 101,
   "id": "fe1b75f1-1a21-4c0b-aa7f-e8b9f00a856a",
   "metadata": {},
   "outputs": [
    {
     "name": "stdout",
     "output_type": "stream",
     "text": [
      "{'name': 'Alice', 'marks': 90, 'grade': 'A', 'age': 22, 'city': 'Kochi'}\n"
     ]
    }
   ],
   "source": [
    "print(student)"
   ]
  },
  {
   "cell_type": "code",
   "execution_count": 103,
   "id": "e7cb1488-b330-4bb3-a8e4-4fadad2af6f0",
   "metadata": {},
   "outputs": [],
   "source": [
    "del student[\"grade\"]"
   ]
  },
  {
   "cell_type": "code",
   "execution_count": 104,
   "id": "7775acf8-3d76-488c-9828-2c4b231396ba",
   "metadata": {},
   "outputs": [
    {
     "name": "stdout",
     "output_type": "stream",
     "text": [
      "name -> Alice\n",
      "marks -> 90\n",
      "age -> 22\n",
      "city -> Kochi\n"
     ]
    }
   ],
   "source": [
    "for key, value in student.items():\n",
    "    print(key, \"->\", value)"
   ]
  },
  {
   "cell_type": "code",
   "execution_count": 105,
   "id": "e77841d3-56ff-401f-82af-195516cf6ff0",
   "metadata": {},
   "outputs": [
    {
     "name": "stdout",
     "output_type": "stream",
     "text": [
      "Alice\n"
     ]
    }
   ],
   "source": [
    "print(student[\"name\"])"
   ]
  },
  {
   "cell_type": "code",
   "execution_count": 116,
   "id": "94e2fe47-1610-440f-8f48-4152a2063fe0",
   "metadata": {},
   "outputs": [
    {
     "name": "stdout",
     "output_type": "stream",
     "text": [
      "{1: 1, 2: 4, 3: 9, 4: 16, 5: 25}\n"
     ]
    }
   ],
   "source": [
    "squares = {x: x**2 for x in range(1, 6)}\n",
    "print(squares)"
   ]
  },
  {
   "cell_type": "code",
   "execution_count": 119,
   "id": "054d7d1c-97f3-48f5-b3ac-394020ace13b",
   "metadata": {},
   "outputs": [
    {
     "name": "stdout",
     "output_type": "stream",
     "text": [
      "Hello, this is the first line.\n",
      "This is the second line.\n",
      "\n"
     ]
    }
   ],
   "source": [
    "file = open('sample.txt', 'r')\n",
    "content = file.read()\n",
    "print(content)\n",
    "file.close()"
   ]
  },
  {
   "cell_type": "code",
   "execution_count": 118,
   "id": "c6bbed28-ce5b-4308-918c-7fa2bfd6a3cd",
   "metadata": {},
   "outputs": [
    {
     "name": "stdout",
     "output_type": "stream",
     "text": [
      "C:\\Users\\RijasTT\\Documents\\ml-prep\n"
     ]
    }
   ],
   "source": [
    "import os\n",
    "print(os.getcwd())"
   ]
  },
  {
   "cell_type": "code",
   "execution_count": 120,
   "id": "062a5f1b-ef58-4e79-85fd-23d3aa9e0ddd",
   "metadata": {},
   "outputs": [
    {
     "name": "stdout",
     "output_type": "stream",
     "text": [
      "Hello, this is the first line.\n",
      "This is the second line.\n",
      "\n"
     ]
    }
   ],
   "source": [
    "with open('sample.txt', 'r') as file:\n",
    "    content = file.read()\n",
    "    print(content)"
   ]
  },
  {
   "cell_type": "code",
   "execution_count": 124,
   "id": "4c56f6c9-6616-40c1-aaaa-c25ca973464f",
   "metadata": {},
   "outputs": [],
   "source": [
    "with open('newfile.txt', 'w') as file:\n",
    "    file.write(\"This is a new file.\\nLine 2 added.\")"
   ]
  },
  {
   "cell_type": "code",
   "execution_count": 125,
   "id": "51bb39ba-3546-42f2-ac15-145c85704bb2",
   "metadata": {},
   "outputs": [
    {
     "name": "stdout",
     "output_type": "stream",
     "text": [
      "This is a new file.\n",
      "Line 2 added.\n"
     ]
    }
   ],
   "source": [
    "with open('newfile.txt', 'r') as file:\n",
    "    content = file.read()\n",
    "    print(content)"
   ]
  },
  {
   "cell_type": "code",
   "execution_count": 128,
   "id": "9dca3e27-f87e-4baf-8535-c5e728a6fe75",
   "metadata": {},
   "outputs": [
    {
     "name": "stdin",
     "output_type": "stream",
     "text": [
      "Enter your name:  Ijas\n"
     ]
    }
   ],
   "source": [
    "username = input(\"Enter your name: \")\n",
    "with open('login_date', 'a') as log:\n",
    "    log.write(f\"user {username} logged in\\n\")"
   ]
  },
  {
   "cell_type": "code",
   "execution_count": null,
   "id": "1be9377c-fb69-4e2c-8e80-811bfb3d87ab",
   "metadata": {},
   "outputs": [],
   "source": []
  }
 ],
 "metadata": {
  "kernelspec": {
   "display_name": "Python 3 (ipykernel)",
   "language": "python",
   "name": "python3"
  },
  "language_info": {
   "codemirror_mode": {
    "name": "ipython",
    "version": 3
   },
   "file_extension": ".py",
   "mimetype": "text/x-python",
   "name": "python",
   "nbconvert_exporter": "python",
   "pygments_lexer": "ipython3",
   "version": "3.12.7"
  }
 },
 "nbformat": 4,
 "nbformat_minor": 5
}
