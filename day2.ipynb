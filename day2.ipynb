{
 "cells": [
  {
   "cell_type": "code",
   "execution_count": 2,
   "id": "12da71ad-b5c0-4386-82de-259bc1017c18",
   "metadata": {},
   "outputs": [
    {
     "name": "stdout",
     "output_type": "stream",
     "text": [
      "['Name', 'Age']\n",
      "['Rijas', '21']\n",
      "['Amina', '22']\n"
     ]
    }
   ],
   "source": [
    "import csv\n",
    "with open('data.csv', 'r') as file:\n",
    "    reader = csv.reader(file)\n",
    "    for row in reader:\n",
    "        print(row)"
   ]
  },
  {
   "cell_type": "code",
   "execution_count": 3,
   "id": "4bc21d8b-f66f-407f-9d16-cd51226ad711",
   "metadata": {},
   "outputs": [],
   "source": [
    "import pandas as pd"
   ]
  },
  {
   "cell_type": "code",
   "execution_count": 5,
   "id": "38b82382-ceee-40cc-ac08-e960535616c7",
   "metadata": {},
   "outputs": [],
   "source": [
    "df = pd.read_csv(\"netflix_mini_dataset.csv\")"
   ]
  },
  {
   "cell_type": "code",
   "execution_count": 7,
   "id": "0fa3ce74-8c19-414b-9e07-7a7f6a655d4f",
   "metadata": {},
   "outputs": [
    {
     "data": {
      "text/html": [
       "<div>\n",
       "<style scoped>\n",
       "    .dataframe tbody tr th:only-of-type {\n",
       "        vertical-align: middle;\n",
       "    }\n",
       "\n",
       "    .dataframe tbody tr th {\n",
       "        vertical-align: top;\n",
       "    }\n",
       "\n",
       "    .dataframe thead th {\n",
       "        text-align: right;\n",
       "    }\n",
       "</style>\n",
       "<table border=\"1\" class=\"dataframe\">\n",
       "  <thead>\n",
       "    <tr style=\"text-align: right;\">\n",
       "      <th></th>\n",
       "      <th>Title</th>\n",
       "      <th>Type</th>\n",
       "      <th>Release_Year</th>\n",
       "      <th>Genre</th>\n",
       "      <th>Duration</th>\n",
       "      <th>Rating</th>\n",
       "    </tr>\n",
       "  </thead>\n",
       "  <tbody>\n",
       "    <tr>\n",
       "      <th>0</th>\n",
       "      <td>The Witcher</td>\n",
       "      <td>TV Show</td>\n",
       "      <td>2019</td>\n",
       "      <td>Fantasy</td>\n",
       "      <td>2 Seasons</td>\n",
       "      <td>TV-MA</td>\n",
       "    </tr>\n",
       "    <tr>\n",
       "      <th>1</th>\n",
       "      <td>Stranger Things</td>\n",
       "      <td>TV Show</td>\n",
       "      <td>2016</td>\n",
       "      <td>Sci-Fi</td>\n",
       "      <td>4 Seasons</td>\n",
       "      <td>TV-14</td>\n",
       "    </tr>\n",
       "    <tr>\n",
       "      <th>2</th>\n",
       "      <td>BoJack Horseman</td>\n",
       "      <td>TV Show</td>\n",
       "      <td>2014</td>\n",
       "      <td>Animation</td>\n",
       "      <td>6 Seasons</td>\n",
       "      <td>TV-MA</td>\n",
       "    </tr>\n",
       "    <tr>\n",
       "      <th>3</th>\n",
       "      <td>Dark</td>\n",
       "      <td>TV Show</td>\n",
       "      <td>2017</td>\n",
       "      <td>Sci-Fi</td>\n",
       "      <td>3 Seasons</td>\n",
       "      <td>TV-MA</td>\n",
       "    </tr>\n",
       "    <tr>\n",
       "      <th>4</th>\n",
       "      <td>Breaking Bad</td>\n",
       "      <td>TV Show</td>\n",
       "      <td>2008</td>\n",
       "      <td>Crime</td>\n",
       "      <td>5 Seasons</td>\n",
       "      <td>TV-MA</td>\n",
       "    </tr>\n",
       "  </tbody>\n",
       "</table>\n",
       "</div>"
      ],
      "text/plain": [
       "             Title     Type  Release_Year      Genre   Duration Rating\n",
       "0      The Witcher  TV Show          2019    Fantasy  2 Seasons  TV-MA\n",
       "1  Stranger Things  TV Show          2016     Sci-Fi  4 Seasons  TV-14\n",
       "2  BoJack Horseman  TV Show          2014  Animation  6 Seasons  TV-MA\n",
       "3             Dark  TV Show          2017     Sci-Fi  3 Seasons  TV-MA\n",
       "4     Breaking Bad  TV Show          2008      Crime  5 Seasons  TV-MA"
      ]
     },
     "execution_count": 7,
     "metadata": {},
     "output_type": "execute_result"
    }
   ],
   "source": [
    "df.head()"
   ]
  },
  {
   "cell_type": "code",
   "execution_count": 8,
   "id": "dc3c5b4f-3114-49fc-aa11-a72b33d54beb",
   "metadata": {},
   "outputs": [
    {
     "name": "stdout",
     "output_type": "stream",
     "text": [
      "<class 'pandas.core.frame.DataFrame'>\n",
      "RangeIndex: 5 entries, 0 to 4\n",
      "Data columns (total 6 columns):\n",
      " #   Column        Non-Null Count  Dtype \n",
      "---  ------        --------------  ----- \n",
      " 0   Title         5 non-null      object\n",
      " 1   Type          5 non-null      object\n",
      " 2   Release_Year  5 non-null      int64 \n",
      " 3   Genre         5 non-null      object\n",
      " 4   Duration      5 non-null      object\n",
      " 5   Rating        5 non-null      object\n",
      "dtypes: int64(1), object(5)\n",
      "memory usage: 372.0+ bytes\n"
     ]
    }
   ],
   "source": [
    "df.info()"
   ]
  },
  {
   "cell_type": "code",
   "execution_count": 11,
   "id": "554bacde-c195-4181-b404-b7180fb89bae",
   "metadata": {},
   "outputs": [
    {
     "data": {
      "text/plain": [
       "0      Fantasy\n",
       "1       Sci-Fi\n",
       "2    Animation\n",
       "3       Sci-Fi\n",
       "4        Crime\n",
       "Name: Genre, dtype: object"
      ]
     },
     "execution_count": 11,
     "metadata": {},
     "output_type": "execute_result"
    }
   ],
   "source": [
    "df[\"Genre\"]"
   ]
  },
  {
   "cell_type": "code",
   "execution_count": 12,
   "id": "76b7fd10-d98b-4f38-a2bf-596f08014514",
   "metadata": {},
   "outputs": [
    {
     "data": {
      "text/plain": [
       "0      Fantasy\n",
       "1       Sci-Fi\n",
       "2    Animation\n",
       "3       Sci-Fi\n",
       "4        Crime\n",
       "Name: Genre, dtype: object"
      ]
     },
     "execution_count": 12,
     "metadata": {},
     "output_type": "execute_result"
    }
   ],
   "source": [
    "df[\"Genre\"].head()"
   ]
  },
  {
   "cell_type": "code",
   "execution_count": 13,
   "id": "b1349c54-468d-448f-8b69-c1d1bb4b5b1f",
   "metadata": {},
   "outputs": [
    {
     "data": {
      "text/html": [
       "<div>\n",
       "<style scoped>\n",
       "    .dataframe tbody tr th:only-of-type {\n",
       "        vertical-align: middle;\n",
       "    }\n",
       "\n",
       "    .dataframe tbody tr th {\n",
       "        vertical-align: top;\n",
       "    }\n",
       "\n",
       "    .dataframe thead th {\n",
       "        text-align: right;\n",
       "    }\n",
       "</style>\n",
       "<table border=\"1\" class=\"dataframe\">\n",
       "  <thead>\n",
       "    <tr style=\"text-align: right;\">\n",
       "      <th></th>\n",
       "      <th>Title</th>\n",
       "      <th>Type</th>\n",
       "      <th>Release_Year</th>\n",
       "      <th>Genre</th>\n",
       "      <th>Duration</th>\n",
       "      <th>Rating</th>\n",
       "    </tr>\n",
       "  </thead>\n",
       "  <tbody>\n",
       "    <tr>\n",
       "      <th>0</th>\n",
       "      <td>The Witcher</td>\n",
       "      <td>TV Show</td>\n",
       "      <td>2019</td>\n",
       "      <td>Fantasy</td>\n",
       "      <td>2 Seasons</td>\n",
       "      <td>TV-MA</td>\n",
       "    </tr>\n",
       "    <tr>\n",
       "      <th>1</th>\n",
       "      <td>Stranger Things</td>\n",
       "      <td>TV Show</td>\n",
       "      <td>2016</td>\n",
       "      <td>Sci-Fi</td>\n",
       "      <td>4 Seasons</td>\n",
       "      <td>TV-14</td>\n",
       "    </tr>\n",
       "    <tr>\n",
       "      <th>2</th>\n",
       "      <td>BoJack Horseman</td>\n",
       "      <td>TV Show</td>\n",
       "      <td>2014</td>\n",
       "      <td>Animation</td>\n",
       "      <td>6 Seasons</td>\n",
       "      <td>TV-MA</td>\n",
       "    </tr>\n",
       "  </tbody>\n",
       "</table>\n",
       "</div>"
      ],
      "text/plain": [
       "             Title     Type  Release_Year      Genre   Duration Rating\n",
       "0      The Witcher  TV Show          2019    Fantasy  2 Seasons  TV-MA\n",
       "1  Stranger Things  TV Show          2016     Sci-Fi  4 Seasons  TV-14\n",
       "2  BoJack Horseman  TV Show          2014  Animation  6 Seasons  TV-MA"
      ]
     },
     "execution_count": 13,
     "metadata": {},
     "output_type": "execute_result"
    }
   ],
   "source": [
    "df[0:3]"
   ]
  },
  {
   "cell_type": "code",
   "execution_count": 16,
   "id": "d57532c5-9b40-4962-93ba-1217758fef38",
   "metadata": {},
   "outputs": [
    {
     "data": {
      "text/html": [
       "<div>\n",
       "<style scoped>\n",
       "    .dataframe tbody tr th:only-of-type {\n",
       "        vertical-align: middle;\n",
       "    }\n",
       "\n",
       "    .dataframe tbody tr th {\n",
       "        vertical-align: top;\n",
       "    }\n",
       "\n",
       "    .dataframe thead th {\n",
       "        text-align: right;\n",
       "    }\n",
       "</style>\n",
       "<table border=\"1\" class=\"dataframe\">\n",
       "  <thead>\n",
       "    <tr style=\"text-align: right;\">\n",
       "      <th></th>\n",
       "      <th>Title</th>\n",
       "      <th>Type</th>\n",
       "      <th>Release_Year</th>\n",
       "      <th>Genre</th>\n",
       "      <th>Duration</th>\n",
       "      <th>Rating</th>\n",
       "    </tr>\n",
       "  </thead>\n",
       "  <tbody>\n",
       "    <tr>\n",
       "      <th>0</th>\n",
       "      <td>The Witcher</td>\n",
       "      <td>TV Show</td>\n",
       "      <td>2019</td>\n",
       "      <td>Fantasy</td>\n",
       "      <td>2 Seasons</td>\n",
       "      <td>TV-MA</td>\n",
       "    </tr>\n",
       "    <tr>\n",
       "      <th>2</th>\n",
       "      <td>BoJack Horseman</td>\n",
       "      <td>TV Show</td>\n",
       "      <td>2014</td>\n",
       "      <td>Animation</td>\n",
       "      <td>6 Seasons</td>\n",
       "      <td>TV-MA</td>\n",
       "    </tr>\n",
       "    <tr>\n",
       "      <th>3</th>\n",
       "      <td>Dark</td>\n",
       "      <td>TV Show</td>\n",
       "      <td>2017</td>\n",
       "      <td>Sci-Fi</td>\n",
       "      <td>3 Seasons</td>\n",
       "      <td>TV-MA</td>\n",
       "    </tr>\n",
       "    <tr>\n",
       "      <th>4</th>\n",
       "      <td>Breaking Bad</td>\n",
       "      <td>TV Show</td>\n",
       "      <td>2008</td>\n",
       "      <td>Crime</td>\n",
       "      <td>5 Seasons</td>\n",
       "      <td>TV-MA</td>\n",
       "    </tr>\n",
       "  </tbody>\n",
       "</table>\n",
       "</div>"
      ],
      "text/plain": [
       "             Title     Type  Release_Year      Genre   Duration Rating\n",
       "0      The Witcher  TV Show          2019    Fantasy  2 Seasons  TV-MA\n",
       "2  BoJack Horseman  TV Show          2014  Animation  6 Seasons  TV-MA\n",
       "3             Dark  TV Show          2017     Sci-Fi  3 Seasons  TV-MA\n",
       "4     Breaking Bad  TV Show          2008      Crime  5 Seasons  TV-MA"
      ]
     },
     "execution_count": 16,
     "metadata": {},
     "output_type": "execute_result"
    }
   ],
   "source": [
    "df[df[\"Rating\"] == \"TV-MA\"]"
   ]
  },
  {
   "cell_type": "code",
   "execution_count": null,
   "id": "1e889d53-340d-42e2-a5d9-ffb5c70b62b1",
   "metadata": {},
   "outputs": [],
   "source": []
  }
 ],
 "metadata": {
  "kernelspec": {
   "display_name": "Python 3 (ipykernel)",
   "language": "python",
   "name": "python3"
  },
  "language_info": {
   "codemirror_mode": {
    "name": "ipython",
    "version": 3
   },
   "file_extension": ".py",
   "mimetype": "text/x-python",
   "name": "python",
   "nbconvert_exporter": "python",
   "pygments_lexer": "ipython3",
   "version": "3.12.7"
  }
 },
 "nbformat": 4,
 "nbformat_minor": 5
}
